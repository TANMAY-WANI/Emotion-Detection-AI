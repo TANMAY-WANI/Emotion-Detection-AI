{
 "cells": [
  {
   "cell_type": "code",
   "execution_count": 1,
   "id": "7df5705e",
   "metadata": {},
   "outputs": [],
   "source": [
    "# Importing the DL library: Tensorflow\n",
    "import tensorflow as tf\n",
    "from keras.preprocessing.image import ImageDataGenerator"
   ]
  },
  {
   "cell_type": "markdown",
   "id": "9c959e1a",
   "metadata": {},
   "source": [
    "Preprocessing Data"
   ]
  },
  {
   "cell_type": "code",
   "execution_count": 4,
   "id": "d9304560",
   "metadata": {},
   "outputs": [],
   "source": [
    "train_datagen = ImageDataGenerator(\n",
    "    rescale = 1./255, #Feature Scaling (Normalizing the data)\n",
    "    shear_range = 0.2,\n",
    "    zoom_range = 0.2,\n",
    "    horizontal_flip = True\n",
    ")\n",
    "test_datagen = ImageDataGenerator(rescale = 1./255)"
   ]
  },
  {
   "cell_type": "code",
   "execution_count": 5,
   "id": "f3ac5cfc",
   "metadata": {},
   "outputs": [
    {
     "name": "stdout",
     "output_type": "stream",
     "text": [
      "Found 785 images belonging to 7 classes.\n"
     ]
    }
   ],
   "source": [
    "training_set = train_datagen.flow_from_directory(\n",
    "    'Dataset/train_set',\n",
    "    target_size = (64,64),\n",
    "    batch_size = 32,\n",
    "    class_mode = 'categorical'\n",
    ")"
   ]
  },
  {
   "cell_type": "code",
   "execution_count": 7,
   "id": "fd79a196",
   "metadata": {},
   "outputs": [
    {
     "name": "stdout",
     "output_type": "stream",
     "text": [
      "Found 196 images belonging to 7 classes.\n"
     ]
    }
   ],
   "source": [
    "testing_set = test_datagen.flow_from_directory(\n",
    "    'Dataset/test_set',\n",
    "    target_size = (64,64),\n",
    "    batch_size=32,\n",
    "    class_mode = 'categorical'\n",
    ")"
   ]
  },
  {
   "cell_type": "markdown",
   "id": "78840074",
   "metadata": {},
   "source": [
    "Making the Model"
   ]
  },
  {
   "cell_type": "code",
   "execution_count": 8,
   "id": "a8b38eb3",
   "metadata": {},
   "outputs": [],
   "source": [
    "cnn = tf.keras.models.Sequential()"
   ]
  },
  {
   "cell_type": "code",
   "execution_count": 9,
   "id": "2de67814",
   "metadata": {},
   "outputs": [],
   "source": [
    "# Convolutional Layer\n",
    "cnn.add(tf.keras.layers.Conv2D(filters=32,kernel_size=3,activation='relu',input_shape = [64,64,3] )) \n",
    "cnn.add(tf.keras.layers.Conv2D(filters=32,kernel_size=3,activation='relu' )) "
   ]
  },
  {
   "cell_type": "code",
   "execution_count": 10,
   "id": "82811245",
   "metadata": {},
   "outputs": [],
   "source": [
    "# Max Pooling Layer\n",
    "cnn.add(tf.keras.layers.MaxPool2D(pool_size = 2,strides=2 )) "
   ]
  },
  {
   "cell_type": "code",
   "execution_count": 11,
   "id": "0270e73e",
   "metadata": {},
   "outputs": [],
   "source": [
    "# Flatten the conv2D\n",
    "cnn.add(tf.keras.layers.Flatten())"
   ]
  },
  {
   "cell_type": "code",
   "execution_count": 12,
   "id": "800ab8f4",
   "metadata": {},
   "outputs": [],
   "source": [
    "# ANN layers\n",
    "cnn.add(tf.keras.layers.Dense(units=128,activation='relu'))\n",
    "cnn.add(tf.keras.layers.Dense(units=128,activation='relu'))\n",
    "cnn.add(tf.keras.layers.Dense(units=7,activation='softmax'))"
   ]
  },
  {
   "cell_type": "code",
   "execution_count": 13,
   "id": "c4d34185",
   "metadata": {},
   "outputs": [],
   "source": [
    "# Compile the model\n",
    "cnn.compile(optimizer='adam',loss='categorical_crossentropy',metrics=['accuracy'])"
   ]
  },
  {
   "cell_type": "code",
   "execution_count": 15,
   "id": "4948494b",
   "metadata": {},
   "outputs": [
    {
     "name": "stdout",
     "output_type": "stream",
     "text": [
      "Model: \"sequential\"\n",
      "_________________________________________________________________\n",
      " Layer (type)                Output Shape              Param #   \n",
      "=================================================================\n",
      " conv2d (Conv2D)             (None, 62, 62, 32)        896       \n",
      "                                                                 \n",
      " conv2d_1 (Conv2D)           (None, 60, 60, 32)        9248      \n",
      "                                                                 \n",
      " max_pooling2d (MaxPooling2  (None, 30, 30, 32)        0         \n",
      " D)                                                              \n",
      "                                                                 \n",
      " flatten (Flatten)           (None, 28800)             0         \n",
      "                                                                 \n",
      " dense (Dense)               (None, 128)               3686528   \n",
      "                                                                 \n",
      " dense_1 (Dense)             (None, 128)               16512     \n",
      "                                                                 \n",
      " dense_2 (Dense)             (None, 7)                 903       \n",
      "                                                                 \n",
      "=================================================================\n",
      "Total params: 3714087 (14.17 MB)\n",
      "Trainable params: 3714087 (14.17 MB)\n",
      "Non-trainable params: 0 (0.00 Byte)\n",
      "_________________________________________________________________\n",
      "None\n"
     ]
    }
   ],
   "source": [
    "print(cnn.summary())"
   ]
  },
  {
   "cell_type": "code",
   "execution_count": 16,
   "id": "0a196f85",
   "metadata": {},
   "outputs": [
    {
     "name": "stdout",
     "output_type": "stream",
     "text": [
      "Epoch 1/25\n",
      "25/25 [==============================] - 3s 110ms/step - loss: 1.7828 - accuracy: 0.3223 - val_loss: 1.4342 - val_accuracy: 0.5255\n",
      "Epoch 2/25\n",
      "25/25 [==============================] - 3s 114ms/step - loss: 1.2497 - accuracy: 0.5847 - val_loss: 0.8413 - val_accuracy: 0.6735\n",
      "Epoch 3/25\n",
      "25/25 [==============================] - 3s 108ms/step - loss: 0.7428 - accuracy: 0.7465 - val_loss: 0.6260 - val_accuracy: 0.7704\n",
      "Epoch 4/25\n",
      "25/25 [==============================] - 3s 105ms/step - loss: 0.5214 - accuracy: 0.8102 - val_loss: 0.3141 - val_accuracy: 0.8776\n",
      "Epoch 5/25\n",
      "25/25 [==============================] - 3s 104ms/step - loss: 0.4308 - accuracy: 0.8510 - val_loss: 0.2667 - val_accuracy: 0.9184\n",
      "Epoch 6/25\n",
      "25/25 [==============================] - 3s 123ms/step - loss: 0.2941 - accuracy: 0.9108 - val_loss: 0.2502 - val_accuracy: 0.9082\n",
      "Epoch 7/25\n",
      "25/25 [==============================] - 3s 126ms/step - loss: 0.2686 - accuracy: 0.9006 - val_loss: 0.2344 - val_accuracy: 0.9235\n",
      "Epoch 8/25\n",
      "25/25 [==============================] - 3s 127ms/step - loss: 0.2935 - accuracy: 0.9070 - val_loss: 0.1919 - val_accuracy: 0.9235\n",
      "Epoch 9/25\n",
      "25/25 [==============================] - 3s 127ms/step - loss: 0.2318 - accuracy: 0.9210 - val_loss: 0.1425 - val_accuracy: 0.9490\n",
      "Epoch 10/25\n",
      "25/25 [==============================] - 3s 119ms/step - loss: 0.2003 - accuracy: 0.9274 - val_loss: 0.1319 - val_accuracy: 0.9490\n",
      "Epoch 11/25\n",
      "25/25 [==============================] - 3s 114ms/step - loss: 0.1660 - accuracy: 0.9325 - val_loss: 0.0972 - val_accuracy: 0.9643\n",
      "Epoch 12/25\n",
      "25/25 [==============================] - 3s 124ms/step - loss: 0.1294 - accuracy: 0.9554 - val_loss: 0.1544 - val_accuracy: 0.9388\n",
      "Epoch 13/25\n",
      "25/25 [==============================] - 3s 111ms/step - loss: 0.1063 - accuracy: 0.9643 - val_loss: 0.0579 - val_accuracy: 0.9694\n",
      "Epoch 14/25\n",
      "25/25 [==============================] - 3s 112ms/step - loss: 0.1082 - accuracy: 0.9656 - val_loss: 0.0882 - val_accuracy: 0.9694\n",
      "Epoch 15/25\n",
      "25/25 [==============================] - 4s 152ms/step - loss: 0.1143 - accuracy: 0.9605 - val_loss: 0.0673 - val_accuracy: 0.9796\n",
      "Epoch 16/25\n",
      "25/25 [==============================] - 3s 117ms/step - loss: 0.1239 - accuracy: 0.9605 - val_loss: 0.0552 - val_accuracy: 0.9796\n",
      "Epoch 17/25\n",
      "25/25 [==============================] - 3s 110ms/step - loss: 0.0991 - accuracy: 0.9605 - val_loss: 0.0517 - val_accuracy: 0.9898\n",
      "Epoch 18/25\n",
      "25/25 [==============================] - 3s 111ms/step - loss: 0.0831 - accuracy: 0.9720 - val_loss: 0.0552 - val_accuracy: 0.9745\n",
      "Epoch 19/25\n",
      "25/25 [==============================] - 3s 117ms/step - loss: 0.0759 - accuracy: 0.9758 - val_loss: 0.0273 - val_accuracy: 0.9949\n",
      "Epoch 20/25\n",
      "25/25 [==============================] - 3s 111ms/step - loss: 0.0782 - accuracy: 0.9707 - val_loss: 0.0390 - val_accuracy: 0.9898\n",
      "Epoch 21/25\n",
      "25/25 [==============================] - 3s 109ms/step - loss: 0.0907 - accuracy: 0.9783 - val_loss: 0.0359 - val_accuracy: 0.9898\n",
      "Epoch 22/25\n",
      "25/25 [==============================] - 3s 113ms/step - loss: 0.0929 - accuracy: 0.9669 - val_loss: 0.0505 - val_accuracy: 0.9796\n",
      "Epoch 23/25\n",
      "25/25 [==============================] - 3s 111ms/step - loss: 0.0878 - accuracy: 0.9669 - val_loss: 0.0249 - val_accuracy: 0.9949\n",
      "Epoch 24/25\n",
      "25/25 [==============================] - 3s 107ms/step - loss: 0.0731 - accuracy: 0.9694 - val_loss: 0.0239 - val_accuracy: 0.9949\n",
      "Epoch 25/25\n",
      "25/25 [==============================] - 3s 107ms/step - loss: 0.0448 - accuracy: 0.9873 - val_loss: 0.0454 - val_accuracy: 0.9847\n"
     ]
    },
    {
     "data": {
      "text/plain": [
       "<keras.src.callbacks.History at 0x16b345210>"
      ]
     },
     "execution_count": 16,
     "metadata": {},
     "output_type": "execute_result"
    }
   ],
   "source": [
    "cnn.fit(x = training_set, validation_data = testing_set,epochs=25 )"
   ]
  },
  {
   "cell_type": "code",
   "execution_count": 18,
   "id": "8b001c42",
   "metadata": {},
   "outputs": [],
   "source": [
    "cnn.save(\"edm.keras\")"
   ]
  }
 ],
 "metadata": {
  "kernelspec": {
   "display_name": "Python 3 (ipykernel)",
   "language": "python",
   "name": "python3"
  },
  "language_info": {
   "codemirror_mode": {
    "name": "ipython",
    "version": 3
   },
   "file_extension": ".py",
   "mimetype": "text/x-python",
   "name": "python",
   "nbconvert_exporter": "python",
   "pygments_lexer": "ipython3",
   "version": "3.11.4"
  }
 },
 "nbformat": 4,
 "nbformat_minor": 5
}
