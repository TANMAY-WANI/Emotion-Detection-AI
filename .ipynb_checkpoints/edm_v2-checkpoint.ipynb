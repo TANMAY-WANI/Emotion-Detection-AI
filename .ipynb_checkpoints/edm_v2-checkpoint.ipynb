{
 "cells": [
  {
   "cell_type": "code",
   "execution_count": 17,
   "id": "151d69d7",
   "metadata": {},
   "outputs": [],
   "source": [
    "# Importing the DL library: Tensorflow\n",
    "import tensorflow as tf\n",
    "from keras.preprocessing.image import ImageDataGenerator"
   ]
  },
  {
   "cell_type": "code",
   "execution_count": 18,
   "id": "82a4dd49",
   "metadata": {},
   "outputs": [],
   "source": [
    "train_datagen = ImageDataGenerator(\n",
    "    rescale = 1./255, #Feature Scaling (Normalizing the data)\n",
    "    shear_range = 0.2,\n",
    "    zoom_range = 0.2,\n",
    "    horizontal_flip = True\n",
    ")\n",
    "test_datagen = ImageDataGenerator(rescale = 1./255)"
   ]
  },
  {
   "cell_type": "code",
   "execution_count": 19,
   "id": "0e18cc77",
   "metadata": {},
   "outputs": [
    {
     "name": "stdout",
     "output_type": "stream",
     "text": [
      "Found 11401 images belonging to 5 classes.\n"
     ]
    }
   ],
   "source": [
    "training_set = train_datagen.flow_from_directory(\n",
    "    'ED_Dataset/train_set',\n",
    "    target_size = (64,64),\n",
    "    batch_size = 32,\n",
    "    class_mode = 'categorical'\n",
    ")"
   ]
  },
  {
   "cell_type": "code",
   "execution_count": 20,
   "id": "f9a3b680",
   "metadata": {},
   "outputs": [
    {
     "name": "stdout",
     "output_type": "stream",
     "text": [
      "Found 1190 images belonging to 7 classes.\n"
     ]
    }
   ],
   "source": [
    "testing_set = test_datagen.flow_from_directory(\n",
    "    'ED_Dataset/test_set',\n",
    "    target_size = (64,64),\n",
    "    batch_size=32,\n",
    "    class_mode = 'categorical'\n",
    ")"
   ]
  },
  {
   "cell_type": "code",
   "execution_count": 21,
   "id": "2268837a",
   "metadata": {},
   "outputs": [],
   "source": [
    "cnn = tf.keras.models.Sequential()"
   ]
  },
  {
   "cell_type": "code",
   "execution_count": 22,
   "id": "f636c578",
   "metadata": {},
   "outputs": [],
   "source": [
    "# Convolutional Layer\n",
    "cnn.add(tf.keras.layers.Conv2D(filters=32,kernel_size=3,activation='relu',input_shape = [64,64,3] )) \n",
    "cnn.add(tf.keras.layers.Conv2D(filters=32,kernel_size=3,activation='relu' )) "
   ]
  },
  {
   "cell_type": "code",
   "execution_count": 23,
   "id": "ab32ca9b",
   "metadata": {},
   "outputs": [],
   "source": [
    "# Max Pooling Layer\n",
    "cnn.add(tf.keras.layers.MaxPool2D(pool_size = 2,strides=2 ))"
   ]
  },
  {
   "cell_type": "code",
   "execution_count": 24,
   "id": "8d2b69b0",
   "metadata": {},
   "outputs": [],
   "source": [
    "# Flatten the conv2D\n",
    "cnn.add(tf.keras.layers.Flatten())"
   ]
  },
  {
   "cell_type": "code",
   "execution_count": 25,
   "id": "760859aa",
   "metadata": {},
   "outputs": [],
   "source": [
    "# ANN layers\n",
    "cnn.add(tf.keras.layers.Dense(units=128,activation='relu'))\n",
    "cnn.add(tf.keras.layers.Dense(units=128,activation='relu'))\n",
    "cnn.add(tf.keras.layers.Dense(units=5,activation='softmax'))"
   ]
  },
  {
   "cell_type": "code",
   "execution_count": 26,
   "id": "3cf032b2",
   "metadata": {},
   "outputs": [],
   "source": [
    "# Compile the model\n",
    "cnn.compile(optimizer='adam',loss='categorical_crossentropy',metrics=['accuracy'])"
   ]
  },
  {
   "cell_type": "code",
   "execution_count": 27,
   "id": "cf986613",
   "metadata": {},
   "outputs": [
    {
     "name": "stdout",
     "output_type": "stream",
     "text": [
      "Model: \"sequential_1\"\n",
      "_________________________________________________________________\n",
      " Layer (type)                Output Shape              Param #   \n",
      "=================================================================\n",
      " conv2d_2 (Conv2D)           (None, 62, 62, 32)        896       \n",
      "                                                                 \n",
      " conv2d_3 (Conv2D)           (None, 60, 60, 32)        9248      \n",
      "                                                                 \n",
      " max_pooling2d_1 (MaxPoolin  (None, 30, 30, 32)        0         \n",
      " g2D)                                                            \n",
      "                                                                 \n",
      " flatten_1 (Flatten)         (None, 28800)             0         \n",
      "                                                                 \n",
      " dense_6 (Dense)             (None, 128)               3686528   \n",
      "                                                                 \n",
      " dense_7 (Dense)             (None, 128)               16512     \n",
      "                                                                 \n",
      " dense_8 (Dense)             (None, 5)                 645       \n",
      "                                                                 \n",
      "=================================================================\n",
      "Total params: 3713829 (14.17 MB)\n",
      "Trainable params: 3713829 (14.17 MB)\n",
      "Non-trainable params: 0 (0.00 Byte)\n",
      "_________________________________________________________________\n",
      "None\n"
     ]
    }
   ],
   "source": [
    "print(cnn.summary())"
   ]
  },
  {
   "cell_type": "code",
   "execution_count": 28,
   "id": "942f797e",
   "metadata": {},
   "outputs": [
    {
     "name": "stdout",
     "output_type": "stream",
     "text": [
      "Epoch 1/25\n",
      "357/357 [==============================] - ETA: 0s - loss: 1.3692 - accuracy: 0.3841"
     ]
    },
    {
     "ename": "InvalidArgumentError",
     "evalue": "Graph execution error:\n\nDetected at node categorical_crossentropy/softmax_cross_entropy_with_logits defined at (most recent call last):\n  File \"<frozen runpy>\", line 198, in _run_module_as_main\n\n  File \"<frozen runpy>\", line 88, in _run_code\n\n  File \"/Users/tanmay/anaconda3/lib/python3.11/site-packages/ipykernel_launcher.py\", line 17, in <module>\n\n  File \"/Users/tanmay/anaconda3/lib/python3.11/site-packages/traitlets/config/application.py\", line 992, in launch_instance\n\n  File \"/Users/tanmay/anaconda3/lib/python3.11/site-packages/ipykernel/kernelapp.py\", line 711, in start\n\n  File \"/Users/tanmay/anaconda3/lib/python3.11/site-packages/tornado/platform/asyncio.py\", line 195, in start\n\n  File \"/Users/tanmay/anaconda3/lib/python3.11/asyncio/base_events.py\", line 607, in run_forever\n\n  File \"/Users/tanmay/anaconda3/lib/python3.11/asyncio/base_events.py\", line 1922, in _run_once\n\n  File \"/Users/tanmay/anaconda3/lib/python3.11/asyncio/events.py\", line 80, in _run\n\n  File \"/Users/tanmay/anaconda3/lib/python3.11/site-packages/ipykernel/kernelbase.py\", line 510, in dispatch_queue\n\n  File \"/Users/tanmay/anaconda3/lib/python3.11/site-packages/ipykernel/kernelbase.py\", line 499, in process_one\n\n  File \"/Users/tanmay/anaconda3/lib/python3.11/site-packages/ipykernel/kernelbase.py\", line 406, in dispatch_shell\n\n  File \"/Users/tanmay/anaconda3/lib/python3.11/site-packages/ipykernel/kernelbase.py\", line 729, in execute_request\n\n  File \"/Users/tanmay/anaconda3/lib/python3.11/site-packages/ipykernel/ipkernel.py\", line 411, in do_execute\n\n  File \"/Users/tanmay/anaconda3/lib/python3.11/site-packages/ipykernel/zmqshell.py\", line 531, in run_cell\n\n  File \"/Users/tanmay/anaconda3/lib/python3.11/site-packages/IPython/core/interactiveshell.py\", line 3006, in run_cell\n\n  File \"/Users/tanmay/anaconda3/lib/python3.11/site-packages/IPython/core/interactiveshell.py\", line 3061, in _run_cell\n\n  File \"/Users/tanmay/anaconda3/lib/python3.11/site-packages/IPython/core/async_helpers.py\", line 129, in _pseudo_sync_runner\n\n  File \"/Users/tanmay/anaconda3/lib/python3.11/site-packages/IPython/core/interactiveshell.py\", line 3266, in run_cell_async\n\n  File \"/Users/tanmay/anaconda3/lib/python3.11/site-packages/IPython/core/interactiveshell.py\", line 3445, in run_ast_nodes\n\n  File \"/Users/tanmay/anaconda3/lib/python3.11/site-packages/IPython/core/interactiveshell.py\", line 3505, in run_code\n\n  File \"/var/folders/g0/vvn_t6cj6ws474jjl54q07rh0000gn/T/ipykernel_43131/3789963031.py\", line 1, in <module>\n\n  File \"/Users/tanmay/anaconda3/lib/python3.11/site-packages/keras/src/utils/traceback_utils.py\", line 65, in error_handler\n\n  File \"/Users/tanmay/anaconda3/lib/python3.11/site-packages/keras/src/engine/training.py\", line 1856, in fit\n\n  File \"/Users/tanmay/anaconda3/lib/python3.11/site-packages/keras/src/utils/traceback_utils.py\", line 65, in error_handler\n\n  File \"/Users/tanmay/anaconda3/lib/python3.11/site-packages/keras/src/engine/training.py\", line 2296, in evaluate\n\n  File \"/Users/tanmay/anaconda3/lib/python3.11/site-packages/keras/src/engine/training.py\", line 4108, in run_step\n\n  File \"/Users/tanmay/anaconda3/lib/python3.11/site-packages/keras/src/engine/training.py\", line 2066, in test_function\n\n  File \"/Users/tanmay/anaconda3/lib/python3.11/site-packages/keras/src/engine/training.py\", line 2049, in step_function\n\n  File \"/Users/tanmay/anaconda3/lib/python3.11/site-packages/keras/src/engine/training.py\", line 2037, in run_step\n\n  File \"/Users/tanmay/anaconda3/lib/python3.11/site-packages/keras/src/engine/training.py\", line 1919, in test_step\n\n  File \"/Users/tanmay/anaconda3/lib/python3.11/site-packages/keras/src/engine/training.py\", line 1209, in compute_loss\n\n  File \"/Users/tanmay/anaconda3/lib/python3.11/site-packages/keras/src/engine/compile_utils.py\", line 277, in __call__\n\n  File \"/Users/tanmay/anaconda3/lib/python3.11/site-packages/keras/src/losses.py\", line 143, in __call__\n\n  File \"/Users/tanmay/anaconda3/lib/python3.11/site-packages/keras/src/losses.py\", line 270, in call\n\n  File \"/Users/tanmay/anaconda3/lib/python3.11/site-packages/keras/src/losses.py\", line 2221, in categorical_crossentropy\n\n  File \"/Users/tanmay/anaconda3/lib/python3.11/site-packages/keras/src/backend.py\", line 5579, in categorical_crossentropy\n\nlogits and labels must be broadcastable: logits_size=[32,5] labels_size=[32,7]\n\t [[{{node categorical_crossentropy/softmax_cross_entropy_with_logits}}]] [Op:__inference_test_function_6117]",
     "output_type": "error",
     "traceback": [
      "\u001b[0;31m---------------------------------------------------------------------------\u001b[0m",
      "\u001b[0;31mInvalidArgumentError\u001b[0m                      Traceback (most recent call last)",
      "Cell \u001b[0;32mIn[28], line 1\u001b[0m\n\u001b[0;32m----> 1\u001b[0m cnn\u001b[38;5;241m.\u001b[39mfit(x \u001b[38;5;241m=\u001b[39m training_set, validation_data \u001b[38;5;241m=\u001b[39m testing_set,epochs\u001b[38;5;241m=\u001b[39m\u001b[38;5;241m25\u001b[39m )\n",
      "File \u001b[0;32m~/anaconda3/lib/python3.11/site-packages/keras/src/utils/traceback_utils.py:70\u001b[0m, in \u001b[0;36mfilter_traceback.<locals>.error_handler\u001b[0;34m(*args, **kwargs)\u001b[0m\n\u001b[1;32m     67\u001b[0m     filtered_tb \u001b[38;5;241m=\u001b[39m _process_traceback_frames(e\u001b[38;5;241m.\u001b[39m__traceback__)\n\u001b[1;32m     68\u001b[0m     \u001b[38;5;66;03m# To get the full stack trace, call:\u001b[39;00m\n\u001b[1;32m     69\u001b[0m     \u001b[38;5;66;03m# `tf.debugging.disable_traceback_filtering()`\u001b[39;00m\n\u001b[0;32m---> 70\u001b[0m     \u001b[38;5;28;01mraise\u001b[39;00m e\u001b[38;5;241m.\u001b[39mwith_traceback(filtered_tb) \u001b[38;5;28;01mfrom\u001b[39;00m \u001b[38;5;28;01mNone\u001b[39;00m\n\u001b[1;32m     71\u001b[0m \u001b[38;5;28;01mfinally\u001b[39;00m:\n\u001b[1;32m     72\u001b[0m     \u001b[38;5;28;01mdel\u001b[39;00m filtered_tb\n",
      "File \u001b[0;32m~/anaconda3/lib/python3.11/site-packages/tensorflow/python/eager/execute.py:53\u001b[0m, in \u001b[0;36mquick_execute\u001b[0;34m(op_name, num_outputs, inputs, attrs, ctx, name)\u001b[0m\n\u001b[1;32m     51\u001b[0m \u001b[38;5;28;01mtry\u001b[39;00m:\n\u001b[1;32m     52\u001b[0m   ctx\u001b[38;5;241m.\u001b[39mensure_initialized()\n\u001b[0;32m---> 53\u001b[0m   tensors \u001b[38;5;241m=\u001b[39m pywrap_tfe\u001b[38;5;241m.\u001b[39mTFE_Py_Execute(ctx\u001b[38;5;241m.\u001b[39m_handle, device_name, op_name,\n\u001b[1;32m     54\u001b[0m                                       inputs, attrs, num_outputs)\n\u001b[1;32m     55\u001b[0m \u001b[38;5;28;01mexcept\u001b[39;00m core\u001b[38;5;241m.\u001b[39m_NotOkStatusException \u001b[38;5;28;01mas\u001b[39;00m e:\n\u001b[1;32m     56\u001b[0m   \u001b[38;5;28;01mif\u001b[39;00m name \u001b[38;5;129;01mis\u001b[39;00m \u001b[38;5;129;01mnot\u001b[39;00m \u001b[38;5;28;01mNone\u001b[39;00m:\n",
      "\u001b[0;31mInvalidArgumentError\u001b[0m: Graph execution error:\n\nDetected at node categorical_crossentropy/softmax_cross_entropy_with_logits defined at (most recent call last):\n  File \"<frozen runpy>\", line 198, in _run_module_as_main\n\n  File \"<frozen runpy>\", line 88, in _run_code\n\n  File \"/Users/tanmay/anaconda3/lib/python3.11/site-packages/ipykernel_launcher.py\", line 17, in <module>\n\n  File \"/Users/tanmay/anaconda3/lib/python3.11/site-packages/traitlets/config/application.py\", line 992, in launch_instance\n\n  File \"/Users/tanmay/anaconda3/lib/python3.11/site-packages/ipykernel/kernelapp.py\", line 711, in start\n\n  File \"/Users/tanmay/anaconda3/lib/python3.11/site-packages/tornado/platform/asyncio.py\", line 195, in start\n\n  File \"/Users/tanmay/anaconda3/lib/python3.11/asyncio/base_events.py\", line 607, in run_forever\n\n  File \"/Users/tanmay/anaconda3/lib/python3.11/asyncio/base_events.py\", line 1922, in _run_once\n\n  File \"/Users/tanmay/anaconda3/lib/python3.11/asyncio/events.py\", line 80, in _run\n\n  File \"/Users/tanmay/anaconda3/lib/python3.11/site-packages/ipykernel/kernelbase.py\", line 510, in dispatch_queue\n\n  File \"/Users/tanmay/anaconda3/lib/python3.11/site-packages/ipykernel/kernelbase.py\", line 499, in process_one\n\n  File \"/Users/tanmay/anaconda3/lib/python3.11/site-packages/ipykernel/kernelbase.py\", line 406, in dispatch_shell\n\n  File \"/Users/tanmay/anaconda3/lib/python3.11/site-packages/ipykernel/kernelbase.py\", line 729, in execute_request\n\n  File \"/Users/tanmay/anaconda3/lib/python3.11/site-packages/ipykernel/ipkernel.py\", line 411, in do_execute\n\n  File \"/Users/tanmay/anaconda3/lib/python3.11/site-packages/ipykernel/zmqshell.py\", line 531, in run_cell\n\n  File \"/Users/tanmay/anaconda3/lib/python3.11/site-packages/IPython/core/interactiveshell.py\", line 3006, in run_cell\n\n  File \"/Users/tanmay/anaconda3/lib/python3.11/site-packages/IPython/core/interactiveshell.py\", line 3061, in _run_cell\n\n  File \"/Users/tanmay/anaconda3/lib/python3.11/site-packages/IPython/core/async_helpers.py\", line 129, in _pseudo_sync_runner\n\n  File \"/Users/tanmay/anaconda3/lib/python3.11/site-packages/IPython/core/interactiveshell.py\", line 3266, in run_cell_async\n\n  File \"/Users/tanmay/anaconda3/lib/python3.11/site-packages/IPython/core/interactiveshell.py\", line 3445, in run_ast_nodes\n\n  File \"/Users/tanmay/anaconda3/lib/python3.11/site-packages/IPython/core/interactiveshell.py\", line 3505, in run_code\n\n  File \"/var/folders/g0/vvn_t6cj6ws474jjl54q07rh0000gn/T/ipykernel_43131/3789963031.py\", line 1, in <module>\n\n  File \"/Users/tanmay/anaconda3/lib/python3.11/site-packages/keras/src/utils/traceback_utils.py\", line 65, in error_handler\n\n  File \"/Users/tanmay/anaconda3/lib/python3.11/site-packages/keras/src/engine/training.py\", line 1856, in fit\n\n  File \"/Users/tanmay/anaconda3/lib/python3.11/site-packages/keras/src/utils/traceback_utils.py\", line 65, in error_handler\n\n  File \"/Users/tanmay/anaconda3/lib/python3.11/site-packages/keras/src/engine/training.py\", line 2296, in evaluate\n\n  File \"/Users/tanmay/anaconda3/lib/python3.11/site-packages/keras/src/engine/training.py\", line 4108, in run_step\n\n  File \"/Users/tanmay/anaconda3/lib/python3.11/site-packages/keras/src/engine/training.py\", line 2066, in test_function\n\n  File \"/Users/tanmay/anaconda3/lib/python3.11/site-packages/keras/src/engine/training.py\", line 2049, in step_function\n\n  File \"/Users/tanmay/anaconda3/lib/python3.11/site-packages/keras/src/engine/training.py\", line 2037, in run_step\n\n  File \"/Users/tanmay/anaconda3/lib/python3.11/site-packages/keras/src/engine/training.py\", line 1919, in test_step\n\n  File \"/Users/tanmay/anaconda3/lib/python3.11/site-packages/keras/src/engine/training.py\", line 1209, in compute_loss\n\n  File \"/Users/tanmay/anaconda3/lib/python3.11/site-packages/keras/src/engine/compile_utils.py\", line 277, in __call__\n\n  File \"/Users/tanmay/anaconda3/lib/python3.11/site-packages/keras/src/losses.py\", line 143, in __call__\n\n  File \"/Users/tanmay/anaconda3/lib/python3.11/site-packages/keras/src/losses.py\", line 270, in call\n\n  File \"/Users/tanmay/anaconda3/lib/python3.11/site-packages/keras/src/losses.py\", line 2221, in categorical_crossentropy\n\n  File \"/Users/tanmay/anaconda3/lib/python3.11/site-packages/keras/src/backend.py\", line 5579, in categorical_crossentropy\n\nlogits and labels must be broadcastable: logits_size=[32,5] labels_size=[32,7]\n\t [[{{node categorical_crossentropy/softmax_cross_entropy_with_logits}}]] [Op:__inference_test_function_6117]"
     ]
    }
   ],
   "source": [
    "cnn.fit(x = training_set, validation_data = testing_set,epochs=25 )"
   ]
  },
  {
   "cell_type": "code",
   "execution_count": null,
   "id": "3b3c4fb7",
   "metadata": {},
   "outputs": [],
   "source": [
    "cnn.save(\"edm_v2.keras\")"
   ]
  }
 ],
 "metadata": {
  "kernelspec": {
   "display_name": "Python 3 (ipykernel)",
   "language": "python",
   "name": "python3"
  },
  "language_info": {
   "codemirror_mode": {
    "name": "ipython",
    "version": 3
   },
   "file_extension": ".py",
   "mimetype": "text/x-python",
   "name": "python",
   "nbconvert_exporter": "python",
   "pygments_lexer": "ipython3",
   "version": "3.11.4"
  }
 },
 "nbformat": 4,
 "nbformat_minor": 5
}
