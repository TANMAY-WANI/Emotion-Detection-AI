{
 "cells": [
  {
   "cell_type": "code",
   "execution_count": 29,
   "id": "dc26b3f9",
   "metadata": {},
   "outputs": [],
   "source": [
    "# Importing the DL library: Tensorflow\n",
    "import tensorflow as tf\n",
    "from keras.preprocessing.image import ImageDataGenerator"
   ]
  },
  {
   "cell_type": "code",
   "execution_count": 30,
   "id": "5dfb5689",
   "metadata": {},
   "outputs": [],
   "source": [
    "train_datagen = ImageDataGenerator(\n",
    "    rescale = 1./255, #Feature Scaling (Normalizing the data)\n",
    "    shear_range = 0.2,\n",
    "    zoom_range = 0.2,\n",
    "    horizontal_flip = True\n",
    ")\n",
    "test_datagen = ImageDataGenerator(rescale = 1./255)"
   ]
  },
  {
   "cell_type": "code",
   "execution_count": 31,
   "id": "196ecf24",
   "metadata": {},
   "outputs": [
    {
     "name": "stdout",
     "output_type": "stream",
     "text": [
      "Found 11401 images belonging to 5 classes.\n"
     ]
    }
   ],
   "source": [
    "training_set = train_datagen.flow_from_directory(\n",
    "    'ED_Dataset/train_set',\n",
    "    target_size = (64,64),\n",
    "    batch_size = 32,\n",
    "    class_mode = 'categorical'\n",
    ")"
   ]
  },
  {
   "cell_type": "code",
   "execution_count": 32,
   "id": "7cf7b158",
   "metadata": {},
   "outputs": [
    {
     "name": "stdout",
     "output_type": "stream",
     "text": [
      "Found 2847 images belonging to 5 classes.\n"
     ]
    }
   ],
   "source": [
    "testing_set = test_datagen.flow_from_directory(\n",
    "    'ED_Dataset/test_set',\n",
    "    target_size = (64,64),\n",
    "    batch_size=32,\n",
    "    class_mode = 'categorical'\n",
    ")"
   ]
  },
  {
   "cell_type": "code",
   "execution_count": 33,
   "id": "b149bb14",
   "metadata": {},
   "outputs": [],
   "source": [
    "cnn = tf.keras.models.Sequential()"
   ]
  },
  {
   "cell_type": "code",
   "execution_count": 34,
   "id": "bf3153bc",
   "metadata": {},
   "outputs": [],
   "source": [
    "# Convolutional Layer\n",
    "cnn.add(tf.keras.layers.Conv2D(filters=32,kernel_size=3,activation='relu',input_shape = [64,64,3] )) \n",
    "cnn.add(tf.keras.layers.Conv2D(filters=32,kernel_size=3,activation='relu' )) "
   ]
  },
  {
   "cell_type": "code",
   "execution_count": 35,
   "id": "35b11d9c",
   "metadata": {},
   "outputs": [],
   "source": [
    "# Max Pooling Layer\n",
    "cnn.add(tf.keras.layers.MaxPool2D(pool_size = 2,strides=2 ))"
   ]
  },
  {
   "cell_type": "code",
   "execution_count": 36,
   "id": "3f071f4d",
   "metadata": {},
   "outputs": [],
   "source": [
    "# Flatten the conv2D\n",
    "cnn.add(tf.keras.layers.Flatten())"
   ]
  },
  {
   "cell_type": "code",
   "execution_count": 37,
   "id": "bb627390",
   "metadata": {},
   "outputs": [],
   "source": [
    "# ANN layers\n",
    "cnn.add(tf.keras.layers.Dense(units=128,activation='relu'))\n",
    "cnn.add(tf.keras.layers.Dense(units=128,activation='relu'))\n",
    "cnn.add(tf.keras.layers.Dense(units=5,activation='softmax'))"
   ]
  },
  {
   "cell_type": "code",
   "execution_count": 38,
   "id": "9f3ab53d",
   "metadata": {},
   "outputs": [],
   "source": [
    "# Compile the model\n",
    "cnn.compile(optimizer='adam',loss='categorical_crossentropy',metrics=['accuracy'])"
   ]
  },
  {
   "cell_type": "code",
   "execution_count": 39,
   "id": "a02afe79",
   "metadata": {},
   "outputs": [
    {
     "name": "stdout",
     "output_type": "stream",
     "text": [
      "Model: \"sequential_2\"\n",
      "_________________________________________________________________\n",
      " Layer (type)                Output Shape              Param #   \n",
      "=================================================================\n",
      " conv2d_4 (Conv2D)           (None, 62, 62, 32)        896       \n",
      "                                                                 \n",
      " conv2d_5 (Conv2D)           (None, 60, 60, 32)        9248      \n",
      "                                                                 \n",
      " max_pooling2d_2 (MaxPoolin  (None, 30, 30, 32)        0         \n",
      " g2D)                                                            \n",
      "                                                                 \n",
      " flatten_2 (Flatten)         (None, 28800)             0         \n",
      "                                                                 \n",
      " dense_9 (Dense)             (None, 128)               3686528   \n",
      "                                                                 \n",
      " dense_10 (Dense)            (None, 128)               16512     \n",
      "                                                                 \n",
      " dense_11 (Dense)            (None, 5)                 645       \n",
      "                                                                 \n",
      "=================================================================\n",
      "Total params: 3713829 (14.17 MB)\n",
      "Trainable params: 3713829 (14.17 MB)\n",
      "Non-trainable params: 0 (0.00 Byte)\n",
      "_________________________________________________________________\n",
      "None\n"
     ]
    }
   ],
   "source": [
    "print(cnn.summary())"
   ]
  },
  {
   "cell_type": "code",
   "execution_count": 40,
   "id": "00bf4c1a",
   "metadata": {},
   "outputs": [
    {
     "name": "stdout",
     "output_type": "stream",
     "text": [
      "Epoch 1/25\n",
      "357/357 [==============================] - 93s 260ms/step - loss: 1.3363 - accuracy: 0.4132 - val_loss: 1.1581 - val_accuracy: 0.5002\n",
      "Epoch 2/25\n",
      "357/357 [==============================] - 91s 255ms/step - loss: 1.1216 - accuracy: 0.5239 - val_loss: 1.0214 - val_accuracy: 0.5743\n",
      "Epoch 3/25\n",
      "357/357 [==============================] - 91s 255ms/step - loss: 1.0232 - accuracy: 0.5781 - val_loss: 0.9567 - val_accuracy: 0.6010\n",
      "Epoch 4/25\n",
      "357/357 [==============================] - 97s 272ms/step - loss: 0.9334 - accuracy: 0.6192 - val_loss: 0.8971 - val_accuracy: 0.6273\n",
      "Epoch 5/25\n",
      "357/357 [==============================] - 101s 283ms/step - loss: 0.8808 - accuracy: 0.6449 - val_loss: 0.8915 - val_accuracy: 0.6221\n",
      "Epoch 6/25\n",
      "357/357 [==============================] - 98s 273ms/step - loss: 0.8349 - accuracy: 0.6591 - val_loss: 0.8396 - val_accuracy: 0.6596\n",
      "Epoch 7/25\n",
      "357/357 [==============================] - 100s 279ms/step - loss: 0.7917 - accuracy: 0.6752 - val_loss: 0.8555 - val_accuracy: 0.6579\n",
      "Epoch 8/25\n",
      "357/357 [==============================] - 100s 280ms/step - loss: 0.7536 - accuracy: 0.6887 - val_loss: 0.8406 - val_accuracy: 0.6635\n",
      "Epoch 9/25\n",
      "357/357 [==============================] - 99s 276ms/step - loss: 0.7234 - accuracy: 0.7069 - val_loss: 0.7950 - val_accuracy: 0.6705\n",
      "Epoch 10/25\n",
      "357/357 [==============================] - 105s 295ms/step - loss: 0.6945 - accuracy: 0.7188 - val_loss: 0.8001 - val_accuracy: 0.6783\n",
      "Epoch 11/25\n",
      "357/357 [==============================] - 102s 286ms/step - loss: 0.6675 - accuracy: 0.7333 - val_loss: 0.8347 - val_accuracy: 0.6670\n",
      "Epoch 12/25\n",
      "357/357 [==============================] - 105s 294ms/step - loss: 0.6599 - accuracy: 0.7281 - val_loss: 0.7808 - val_accuracy: 0.6934\n",
      "Epoch 13/25\n",
      "357/357 [==============================] - 99s 278ms/step - loss: 0.6268 - accuracy: 0.7477 - val_loss: 0.8236 - val_accuracy: 0.6811\n",
      "Epoch 14/25\n",
      "357/357 [==============================] - 96s 269ms/step - loss: 0.6039 - accuracy: 0.7594 - val_loss: 0.8234 - val_accuracy: 0.6807\n",
      "Epoch 15/25\n",
      "357/357 [==============================] - 91s 255ms/step - loss: 0.5995 - accuracy: 0.7563 - val_loss: 0.7867 - val_accuracy: 0.6909\n",
      "Epoch 16/25\n",
      "357/357 [==============================] - 92s 259ms/step - loss: 0.5801 - accuracy: 0.7669 - val_loss: 0.8002 - val_accuracy: 0.6835\n",
      "Epoch 17/25\n",
      "357/357 [==============================] - 99s 278ms/step - loss: 0.5610 - accuracy: 0.7769 - val_loss: 0.8425 - val_accuracy: 0.6849\n",
      "Epoch 18/25\n",
      "357/357 [==============================] - 111s 312ms/step - loss: 0.5390 - accuracy: 0.7848 - val_loss: 0.8458 - val_accuracy: 0.6751\n",
      "Epoch 19/25\n",
      "357/357 [==============================] - 93s 262ms/step - loss: 0.5290 - accuracy: 0.7891 - val_loss: 0.8437 - val_accuracy: 0.6818\n",
      "Epoch 20/25\n",
      "357/357 [==============================] - 101s 283ms/step - loss: 0.5202 - accuracy: 0.7955 - val_loss: 0.8400 - val_accuracy: 0.6888\n",
      "Epoch 21/25\n",
      "357/357 [==============================] - 94s 264ms/step - loss: 0.5029 - accuracy: 0.7987 - val_loss: 0.8437 - val_accuracy: 0.6825\n",
      "Epoch 22/25\n",
      "357/357 [==============================] - 94s 263ms/step - loss: 0.4962 - accuracy: 0.8055 - val_loss: 0.8717 - val_accuracy: 0.6877\n",
      "Epoch 23/25\n",
      "357/357 [==============================] - 91s 255ms/step - loss: 0.4631 - accuracy: 0.8219 - val_loss: 0.8218 - val_accuracy: 0.7025\n",
      "Epoch 24/25\n",
      "357/357 [==============================] - 92s 258ms/step - loss: 0.4626 - accuracy: 0.8179 - val_loss: 0.8602 - val_accuracy: 0.6895\n",
      "Epoch 25/25\n",
      "357/357 [==============================] - 99s 276ms/step - loss: 0.4621 - accuracy: 0.8145 - val_loss: 0.8861 - val_accuracy: 0.6948\n"
     ]
    },
    {
     "data": {
      "text/plain": [
       "<keras.src.callbacks.History at 0x157c09350>"
      ]
     },
     "execution_count": 40,
     "metadata": {},
     "output_type": "execute_result"
    }
   ],
   "source": [
    "cnn.fit(x = training_set, validation_data = testing_set,epochs=25 )"
   ]
  },
  {
   "cell_type": "code",
   "execution_count": 41,
   "id": "2b59746e",
   "metadata": {},
   "outputs": [],
   "source": [
    "cnn.save(\"edm_v2.keras\")"
   ]
  }
 ],
 "metadata": {
  "kernelspec": {
   "display_name": "Python 3 (ipykernel)",
   "language": "python",
   "name": "python3"
  },
  "language_info": {
   "codemirror_mode": {
    "name": "ipython",
    "version": 3
   },
   "file_extension": ".py",
   "mimetype": "text/x-python",
   "name": "python",
   "nbconvert_exporter": "python",
   "pygments_lexer": "ipython3",
   "version": "3.11.4"
  }
 },
 "nbformat": 4,
 "nbformat_minor": 5
}
